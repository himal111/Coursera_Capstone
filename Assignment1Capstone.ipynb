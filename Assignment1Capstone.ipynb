This notebook is used for Capstone Project in IBM Data Science Professional Course. Below some Python codes will be executed.
import pandas as pd
import numpy as np
print("Hello Capstone Project!")
